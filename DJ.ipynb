{
 "cells": [
  {
   "cell_type": "markdown",
   "id": "b90547f4-0f03-4484-92f0-18706acc714e",
   "metadata": {},
   "source": [
    "# Deutsch-Jozsa's quantum approach"
   ]
  },
  {
   "cell_type": "markdown",
   "id": "aa7809e7-9141-424c-b3d3-c720feea4042",
   "metadata": {},
   "source": [
    "## I - Import important packages"
   ]
  },
  {
   "cell_type": "code",
   "execution_count": 35,
   "id": "40a81711-06bf-49ea-a429-caa4823196f8",
   "metadata": {},
   "outputs": [],
   "source": [
    "import numpy as np\n",
    "# Importing standard Qiskit libraries\n",
    "from qiskit import QuantumCircuit, transpile, assemble, Aer, IBMQ, execute\n",
    "from qiskit.quantum_info import Statevector\n",
    "from qiskit.visualization import plot_bloch_multivector, plot_histogram"
   ]
  },
  {
   "cell_type": "markdown",
   "id": "c53d5972-1f9d-431f-a540-f91c05a6c26e",
   "metadata": {},
   "source": [
    "## II - Class for DJ algorithm"
   ]
  },
  {
   "cell_type": "code",
   "execution_count": 168,
   "id": "41442246-03bd-40b3-89dc-0a5433604467",
   "metadata": {},
   "outputs": [],
   "source": [
    "class DeutschJozsa:\n",
    "    '''\n",
    "    Class to generate a DeutschJozsa object containing:\n",
    "    - init functions\n",
    "    - oracle function \n",
    "    - dj function \n",
    "    '''\n",
    "    def __init__(self, case, input_str):\n",
    "        '''\n",
    "        Initialization of the object:\n",
    "        @case: (str) type of oracle balanced or constant\n",
    "        @input_str: (str) string input state values \n",
    "        '''\n",
    "        self.case = case\n",
    "        self.number_qubit = len(input_str)\n",
    "        self.str_input = input_str\n",
    "        \n",
    "    def oracle(self):\n",
    "        '''\n",
    "        Will create the oracle needed for the Deutsch-Jozsa algorithm\n",
    "        No input, the function will be used in the dj function\n",
    "        @return the oracle in form of a gate\n",
    "        '''\n",
    "        # Create the QuantumCircuit with n+1 qubits  \n",
    "        self.oracle_circuit = QuantumCircuit(self.number_qubit+1)\n",
    "        \n",
    "        # Balanced case\n",
    "        if self.case == \"balanced\":\n",
    "            # apply an X-gate to a qubit when its value is 1\n",
    "            for qubit in range(len(self.str_input)):\n",
    "                if self.str_input[qubit] == '1':\n",
    "                    self.oracle_circuit.x(qubit)\n",
    "            # Apply CNOT gates on each qubit\n",
    "            for qubit in range(self.number_qubit):\n",
    "                self.oracle_circuit.cx(qubit, self.number_qubit)\n",
    "            # apply another set of X gates when the input qubit == 1\n",
    "            for qubit in range(len(self.str_input)):\n",
    "                if self.str_input[qubit] == '1':\n",
    "                    self.oracle_circuit.x(qubit)\n",
    "            \n",
    "        # Constant case\n",
    "        if self.case == \"constant\":\n",
    "        # Output 0 for a constant oracle\n",
    "            self.output = np.random.randint(2)\n",
    "            if self.output == 1:\n",
    "                self.oracle_circuit.x(self.number_qubit)\n",
    "        # convert the quantum circuit into a gate\n",
    "        self.oracle_gate = self.oracle_circuit.to_gate()\n",
    "        # name of the oracle\n",
    "        self.oracle_gate.name = \"Oracle\" \n",
    "        return self.oracle_gate\n",
    "        \n",
    "    def dj(self):\n",
    "        '''\n",
    "        Create the Deutsch-Jozsa algorithm in the general case with n qubit\n",
    "        No input\n",
    "        @return the quantum circuit of the DJ \n",
    "        '''\n",
    "        self.dj_circuit = QuantumCircuit(self.number_qubit+1, self.number_qubit)\n",
    "        # Set up the output qubit:\n",
    "        self.dj_circuit.x(self.number_qubit)\n",
    "        self.dj_circuit.h(self.number_qubit)\n",
    "        # Psi_0\n",
    "        for qubit in range(self.number_qubit):\n",
    "            self.dj_circuit.h(qubit)\n",
    "        # Psi_1 + oracle \n",
    "        self.dj_circuit.append(self.oracle(), range(self.number_qubit+1))\n",
    "        # Psi_2\n",
    "        for qubit in range(self.number_qubit):\n",
    "            self.dj_circuit.h(qubit)\n",
    "        # Psi_3\n",
    "        # Let's put some measurement \n",
    "        for i in range(self.number_qubit):\n",
    "            self.dj_circuit.measure(i, i)\n",
    "\n",
    "        return self.dj_circuit\n"
   ]
  },
  {
   "cell_type": "markdown",
   "id": "7ae9c533-787c-4de1-9538-47d8d79cf32f",
   "metadata": {},
   "source": [
    "## III - Visualize the quantum circuit"
   ]
  },
  {
   "cell_type": "markdown",
   "id": "ac4a72ea-eb2b-43ca-b7ba-2510024743cc",
   "metadata": {},
   "source": [
    "Create the quantum cricuit and visualize it"
   ]
  },
  {
   "cell_type": "code",
   "execution_count": 169,
   "id": "3a8b8b8e-e269-401a-bb0a-14e3831522f2",
   "metadata": {},
   "outputs": [
    {
     "data": {
      "image/png": "[encoded data removed]",
      "text/plain": [
       "<Figure size 628.397x385.28 with 1 Axes>"
      ]
     },
     "execution_count": 169,
     "metadata": {},
     "output_type": "execute_result"
    }
   ],
   "source": [
    "test = DeutschJozsa('constant', '0110')\n",
    "#circuit = test.oracle()\n",
    "dj_circuit = test.dj()\n",
    "dj_circuit.draw('mpl')"
   ]
  },
  {
   "cell_type": "markdown",
   "id": "f3879be3-b68f-46de-b076-be97c5266365",
   "metadata": {},
   "source": [
    "## IV - Run the quantum circuit"
   ]
  },
  {
   "cell_type": "markdown",
   "id": "1c138590-cc6e-4e63-a5a5-7c6c5b7adb87",
   "metadata": {},
   "source": [
    "Have some fun and run it on a quantum simulator"
   ]
  },
  {
   "cell_type": "code",
   "execution_count": 170,
   "id": "b36177aa-45ac-40aa-8a22-5d746569d940",
   "metadata": {},
   "outputs": [
    {
     "data": {
      "image/png": "[encoded data removed]",
      "text/plain": [
       "<Figure size 504x360 with 1 Axes>"
      ]
     },
     "execution_count": 170,
     "metadata": {},
     "output_type": "execute_result"
    }
   ],
   "source": [
    "qasm_sim = Aer.get_backend('qasm_simulator')\n",
    "transpiled_dj_circuit = transpile(dj_circuit, qasm_sim)\n",
    "qobj = assemble(transpiled_dj_circuit)\n",
    "results = qasm_sim.run(qobj).result()\n",
    "answer = results.get_counts()\n",
    "plot_histogram(answer)"
   ]
  },
  {
   "cell_type": "markdown",
   "id": "475182f0-892b-40a8-97ff-5f91e9b2bd9f",
   "metadata": {},
   "source": [
    "And now... Let's do it again but with a real device!"
   ]
  },
  {
   "cell_type": "markdown",
   "id": "067e6230-47d7-43ab-a89e-6dcb220e421f",
   "metadata": {},
   "source": [
    "## V - Run on a real device"
   ]
  },
  {
   "cell_type": "markdown",
   "id": "28824cd8-de55-4c64-9cad-6abec53fe565",
   "metadata": {},
   "source": [
    "### Load and use your IBMQ account"
   ]
  },
  {
   "cell_type": "code",
   "execution_count": 157,
   "id": "cbd9a70b-2da0-4077-8586-e1515198e11f",
   "metadata": {},
   "outputs": [
    {
     "name": "stderr",
     "output_type": "stream",
     "text": [
      "ibmqfactory.load_account:WARNING:2022-04-30 22:44:56,828: Credentials are already in use. The existing account in the session will be replaced.\n"
     ]
    },
    {
     "data": {
      "text/plain": [
       "[<AccountProvider for IBMQ(hub='ibm-q', group='open', project='main')>]"
      ]
     },
     "execution_count": 157,
     "metadata": {},
     "output_type": "execute_result"
    }
   ],
   "source": [
    "from qiskit import IBMQ\n",
    "#TOKEN = 'paste your token here'\n",
    "#IBMQ.save_account(TOKEN)\n",
    "IBMQ.load_account() # Load account from disk\n",
    "IBMQ.providers()  "
   ]
  },
  {
   "cell_type": "markdown",
   "id": "eb912fe2-1085-4da0-aae4-57f50c19ca98",
   "metadata": {},
   "source": [
    "### List the backends available in the IBM quantum Cloud"
   ]
  },
  {
   "cell_type": "code",
   "execution_count": 158,
   "id": "c035c20d-a270-4e13-90c6-e4405b6fca0c",
   "metadata": {},
   "outputs": [
    {
     "data": {
      "text/plain": [
       "[<IBMQSimulator('ibmq_qasm_simulator') from IBMQ(hub='ibm-q', group='open', project='main')>,\n",
       " <IBMQBackend('ibmq_armonk') from IBMQ(hub='ibm-q', group='open', project='main')>,\n",
       " <IBMQBackend('ibmq_santiago') from IBMQ(hub='ibm-q', group='open', project='main')>,\n",
       " <IBMQBackend('ibmq_bogota') from IBMQ(hub='ibm-q', group='open', project='main')>,\n",
       " <IBMQBackend('ibmq_lima') from IBMQ(hub='ibm-q', group='open', project='main')>,\n",
       " <IBMQBackend('ibmq_belem') from IBMQ(hub='ibm-q', group='open', project='main')>,\n",
       " <IBMQBackend('ibmq_quito') from IBMQ(hub='ibm-q', group='open', project='main')>,\n",
       " <IBMQSimulator('simulator_statevector') from IBMQ(hub='ibm-q', group='open', project='main')>,\n",
       " <IBMQSimulator('simulator_mps') from IBMQ(hub='ibm-q', group='open', project='main')>,\n",
       " <IBMQSimulator('simulator_extended_stabilizer') from IBMQ(hub='ibm-q', group='open', project='main')>,\n",
       " <IBMQSimulator('simulator_stabilizer') from IBMQ(hub='ibm-q', group='open', project='main')>,\n",
       " <IBMQBackend('ibmq_manila') from IBMQ(hub='ibm-q', group='open', project='main')>]"
      ]
     },
     "execution_count": 158,
     "metadata": {},
     "output_type": "execute_result"
    }
   ],
   "source": [
    "provider = IBMQ.get_provider(hub='ibm-q')\n",
    "provider.backends()"
   ]
  },
  {
   "cell_type": "markdown",
   "id": "5aa5f54d-6d03-4cb3-9b4e-a07ec0ab49b9",
   "metadata": {},
   "source": [
    "### Filter for devices with more or equal to 5 qubits"
   ]
  },
  {
   "cell_type": "code",
   "execution_count": 159,
   "id": "6de7cb64-c394-49e8-ac48-0c7fb0f2ab21",
   "metadata": {},
   "outputs": [
    {
     "data": {
      "text/plain": [
       "[<IBMQBackend('ibmq_santiago') from IBMQ(hub='ibm-q', group='open', project='main')>,\n",
       " <IBMQBackend('ibmq_bogota') from IBMQ(hub='ibm-q', group='open', project='main')>,\n",
       " <IBMQBackend('ibmq_lima') from IBMQ(hub='ibm-q', group='open', project='main')>,\n",
       " <IBMQBackend('ibmq_belem') from IBMQ(hub='ibm-q', group='open', project='main')>,\n",
       " <IBMQBackend('ibmq_quito') from IBMQ(hub='ibm-q', group='open', project='main')>,\n",
       " <IBMQBackend('ibmq_manila') from IBMQ(hub='ibm-q', group='open', project='main')>]"
      ]
     },
     "execution_count": 159,
     "metadata": {},
     "output_type": "execute_result"
    }
   ],
   "source": [
    "provider.backends(filters=lambda x: x.configuration().n_qubits >= 5\n",
    "                                    and not x.configuration().simulator\n",
    "                                    and x.status().operational==True)"
   ]
  },
  {
   "cell_type": "markdown",
   "id": "5af01124-8b97-49c3-99a5-c875fb04225d",
   "metadata": {},
   "source": [
    "### Load Manila device as backend"
   ]
  },
  {
   "cell_type": "code",
   "execution_count": 160,
   "id": "9bd5bed2-5fb6-4ce3-841c-97d570694597",
   "metadata": {},
   "outputs": [
    {
     "data": {
      "text/plain": [
       "<IBMQBackend('ibmq_manila') from IBMQ(hub='ibm-q', group='open', project='main')>"
      ]
     },
     "execution_count": 160,
     "metadata": {},
     "output_type": "execute_result"
    }
   ],
   "source": [
    "backend = provider.get_backend('ibmq_manila')\n",
    "backend"
   ]
  },
  {
   "cell_type": "markdown",
   "id": "2b996969-dc19-4d5f-bb7d-76eb7121724f",
   "metadata": {},
   "source": [
    "### Run on Manila "
   ]
  },
  {
   "cell_type": "code",
   "execution_count": 161,
   "id": "296feed7-fa3c-48bb-8394-8b0d8e4abea9",
   "metadata": {},
   "outputs": [
    {
     "name": "stderr",
     "output_type": "stream",
     "text": [
      "/var/folders/pl/5fwxfdqn4ns4gmyg5c4pfgh40000gp/T/ipykernel_32770/1129222619.py:3: DeprecationWarning: Passing a Qobj to Backend.run is deprecated and will be removed in a future release. Please pass in circuits or pulse schedules instead.\n",
      "  job = backend.run(qobj)\n"
     ]
    }
   ],
   "source": [
    "mapped_circuit = transpile(dj_circuit, backend=backend)\n",
    "qobj = assemble(mapped_circuit, backend=backend, shots=1024)\n",
    "job = backend.run(qobj)"
   ]
  },
  {
   "cell_type": "markdown",
   "id": "7602960a-3215-4880-8dde-d69d044582d9",
   "metadata": {},
   "source": [
    "### Check the job's status"
   ]
  },
  {
   "cell_type": "code",
   "execution_count": 164,
   "id": "74a52537-e51f-4e20-bbd1-1537e6b76f67",
   "metadata": {},
   "outputs": [
    {
     "data": {
      "text/plain": [
       "<JobStatus.DONE: 'job has successfully run'>"
      ]
     },
     "execution_count": 164,
     "metadata": {},
     "output_type": "execute_result"
    }
   ],
   "source": [
    "job.status() # 9:17 pm"
   ]
  },
  {
   "cell_type": "markdown",
   "id": "62914cca-7677-4882-a79d-f2b19080703e",
   "metadata": {},
   "source": [
    "### Get the results"
   ]
  },
  {
   "cell_type": "code",
   "execution_count": 165,
   "id": "853b332a-78da-499e-a772-ce65e5c462d1",
   "metadata": {},
   "outputs": [
    {
     "name": "stdout",
     "output_type": "stream",
     "text": [
      "{'0000': 974, '0001': 8, '0010': 8, '0100': 25, '1000': 8, '1001': 1}\n"
     ]
    }
   ],
   "source": [
    "result = job.result()\n",
    "counts = result.get_counts()\n",
    "print(counts)"
   ]
  },
  {
   "cell_type": "markdown",
   "id": "28ceca34-8b4a-4799-aaf5-7970c7758ce0",
   "metadata": {},
   "source": [
    "### Visualize the probabilities with an histogram"
   ]
  },
  {
   "cell_type": "code",
   "execution_count": 167,
   "id": "7ec72472-3ad1-4100-9541-54767328f63e",
   "metadata": {},
   "outputs": [
    {
     "data": {
      "image/png": "[encoded data removed]",
      "text/plain": [
       "<Figure size 504x360 with 1 Axes>"
      ]
     },
     "execution_count": 167,
     "metadata": {},
     "output_type": "execute_result"
    }
   ],
   "source": [
    "plot_histogram(counts)"
   ]
  },
  {
   "cell_type": "markdown",
   "id": "2201e512-10e3-4dd0-8c15-748a72bdea47",
   "metadata": {},
   "source": [
    "### Save the pictures"
   ]
  },
  {
   "cell_type": "code",
   "execution_count": 166,
   "id": "0dc01d74-d5eb-442d-8c90-adcf8d77c895",
   "metadata": {},
   "outputs": [],
   "source": [
    "plot_histogram(counts,figsize=(10,8), filename='DJ.jpeg')"
   ]
  },
  {
   "cell_type": "code",
   "execution_count": null,
   "id": "69214c7a-95ef-4a23-ab4d-0754559b97f8",
   "metadata": {},
   "outputs": [],
   "source": []
  }
 ],
 "metadata": {
  "kernelspec": {
   "display_name": "Python 3 (ipykernel)",
   "language": "python",
   "name": "python3"
  },
  "language_info": {
   "codemirror_mode": {
    "name": "ipython",
    "version": 3
   },
   "file_extension": ".py",
   "mimetype": "text/x-python",
   "name": "python",
   "nbconvert_exporter": "python",
   "pygments_lexer": "ipython3",
   "version": "3.8.13"
  }
 },
 "nbformat": 4,
 "nbformat_minor": 5
}
